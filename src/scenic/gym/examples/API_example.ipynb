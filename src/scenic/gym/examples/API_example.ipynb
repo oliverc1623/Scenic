{
 "cells": [
  {
   "cell_type": "code",
   "execution_count": 5,
   "id": "00c0a66b",
   "metadata": {},
   "outputs": [],
   "source": [
    "from scenic.gym import ScenicGymEnv\n",
    "import scenic\n",
    "from scenic.simulators.newtonian_gym import NewtonianSimulator\n",
    "import numpy as np\n",
    "from scenic.simulators.metadrive.simulator import MetaDriveSimulation"
   ]
  },
  {
   "cell_type": "code",
   "execution_count": null,
   "id": "5cc329de",
   "metadata": {},
   "outputs": [],
   "source": [
    "class NewtonianSimulator(NewtonianSimulator):\n",
    "    def createSimulation(self, scene, **kwargs):\n",
    "        return GymMetaDriveSimulation(scene,\n",
    "            render=self.render,\n",
    "            render3D=self.render3D,\n",
    "            scenario_number=self.scenario_number,\n",
    "            timestep=self.timestep,\n",
    "            sumo_map=self.sumo_map,\n",
    "            real_time=self.real_time,\n",
    "            scenic_offset=self.scenic_offset,\n",
    "            sumo_map_boundary=self.sumo_map_boundary,\n",
    "            film_size=self.film_size,\n",
    "            **kwargs,)\n",
    "\n",
    "class GymMetaDriveSimulation(MetaDriveSimulation):\n",
    "    def __init__(self, *args, **kwargs):\n",
    "        super().__init__(*args, **kwargs)\n",
    "        self.observation = np.random(2)\n",
    "\n",
    "    def get_obs(self):\n",
    "        return self.observation\n",
    "\n",
    "    def get_info(self):\n",
    "        return None\n",
    "    \n",
    "    def get_reward(self):\n",
    "        return 1"
   ]
  },
  {
   "cell_type": "code",
   "execution_count": 2,
   "id": "d31fed22",
   "metadata": {},
   "outputs": [
    {
     "name": "stdout",
     "output_type": "stream",
     "text": [
      "Vector(189.31147883451823, 45.43939403003645, 0.0)\n",
      "Vector(189.31214934103858, 45.383398044278486, 0.0)\n",
      "Vector(189.3131597895781, 45.29940412191652, 0.0)\n",
      "Vector(189.31451655223236, 45.18741234009705, 0.0)\n",
      "Vector(189.31622854835192, 45.04742280809809, 0.0)\n",
      "Vector(189.31830725826006, 44.87943566881321, 0.0)\n",
      "Vector(189.32076667393287, 44.68345109984272, 0.0)\n",
      "Vector(189.3236231513784, 44.45946931367116, 0.0)\n",
      "Vector(189.32689513602685, 44.20749055639892, 0.0)\n",
      "Vector(189.33060273275512, 43.927515104391965, 0.0)\n",
      "Vector(189.3347670950571, 43.619543258135494, 0.0)\n",
      "Vector(189.33940961416428, 43.283575332558755, 0.0)\n",
      "Vector(189.34455089938461, 42.91961164317988, 0.0)\n",
      "Vector(189.35020955613038, 42.527652487649824, 0.0)\n",
      "Vector(189.3564007882681, 42.10769812269499, 0.0)\n",
      "Vector(189.3631348761951, 41.659748737094574, 0.0)\n",
      "Vector(189.37041561030722, 41.183804422168144, 0.0)\n",
      "Vector(189.37823878917658, 40.679865142222255, 0.0)\n",
      "Vector(189.386590919616, 40.14793070837056, 0.0)\n",
      "Vector(189.39544827759286, 39.58800075988623, 0.0)\n",
      "Vector(189.40477649950276, 39.000074757504976, 0.0)\n",
      "Vector(189.41453086704533, 38.38415199261164, 0.0)\n",
      "Vector(189.42465742063652, 37.74023161483783, 0.0)\n",
      "Vector(189.4350949821491, 37.06831267827653, 0.0)\n",
      "Vector(189.4457780867364, 36.36839420354081, 0.0)\n",
      "Vector(189.4566407185924, 35.64047524979035, 0.0)\n",
      "Vector(189.46762062499974, 34.8845549883505, 0.0)\n",
      "Vector(189.47866386095865, 34.10063276839526, 0.0)\n",
      "Vector(189.4897291124544, 33.2887081658555, 0.0)\n",
      "Vector(189.50079128285677, 32.448781009260365, 0.0)\n",
      "Vector(189.511843826941, 31.580851380045377, 0.0)\n",
      "Vector(189.52289939856558, 30.684919588927297, 0.0)\n",
      "Vector(189.53398854842683, 29.760986133122522, 0.0)\n",
      "Vector(189.54515645857154, 28.8090516407424, 0.0)\n",
      "Vector(189.55645800164342, 27.829116808662125, 0.0)\n",
      "Vector(189.56795171657365, 26.821182339305558, 0.0)\n",
      "Vector(189.57969353577872, 25.78524888117142, 0.0)\n",
      "Vector(189.59173121638895, 24.721316978159987, 0.0)\n",
      "Vector(189.60410036796753, 23.629387033479823, 0.0)\n",
      "Vector(189.6168227122708, 22.50945929386649, 0.0)\n"
     ]
    }
   ],
   "source": [
    "scenario = scenic.scenarioFromFile(\"newtonian1.scenic\",\n",
    "                                   model=\"scenic.simulators.newtonian_gym.driving_model\",\n",
    "                               mode2D=True)\n",
    "\n",
    "reward_fn = lambda obs: np.random.rand()\n",
    "env = ScenicGymEnv(scenario, NewtonianSimulator(), None, max_steps=40) # max_step is max step for an episode\n",
    "env.reset()\n",
    "episode_over = False\n",
    "while not episode_over:\n",
    "    action = env.action_space.sample() # dummy here\n",
    "\n",
    "    observation, reward, terminated, truncated, info = env.step(action)\n",
    "    print(observation[0]['position'])\n",
    "    episode_over = terminated or truncated\n",
    "\n",
    "env.close()"
   ]
  },
  {
   "cell_type": "code",
   "execution_count": null,
   "id": "d66c51ca",
   "metadata": {},
   "outputs": [],
   "source": []
  }
 ],
 "metadata": {
  "kernelspec": {
   "display_name": "tracr",
   "language": "python",
   "name": "python3"
  },
  "language_info": {
   "codemirror_mode": {
    "name": "ipython",
    "version": 3
   },
   "file_extension": ".py",
   "mimetype": "text/x-python",
   "name": "python",
   "nbconvert_exporter": "python",
   "pygments_lexer": "ipython3",
   "version": "3.8.20"
  }
 },
 "nbformat": 4,
 "nbformat_minor": 5
}
